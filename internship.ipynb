{
 "cells": [
  {
   "cell_type": "code",
   "execution_count": 7,
   "id": "9b5b7be8",
   "metadata": {},
   "outputs": [
    {
     "name": "stdout",
     "output_type": "stream",
     "text": [
      "enterthe number10\n",
      "1,2,5,10,"
     ]
    }
   ],
   "source": [
    "numb=int(input('enterthe number'))\n",
    "for i in range(1,numb+1):\n",
    "    if(numb%i==0):\n",
    "        print(i,end=',')"
   ]
  },
  {
   "cell_type": "code",
   "execution_count": 23,
   "id": "01c410d8",
   "metadata": {},
   "outputs": [],
   "source": [
    "def fib(nbr_of_term):\n",
    "    counter=0\n",
    "    first=0\n",
    "    second=1\n",
    "    temp=0\n",
    "    while counter<=nbr_of_term:\n",
    "        print(first)\n",
    "        temp=first+second\n",
    "        first=second\n",
    "        second=temp\n",
    "        counter=counter+1"
   ]
  },
  {
   "cell_type": "code",
   "execution_count": 27,
   "id": "07ca8703",
   "metadata": {},
   "outputs": [
    {
     "name": "stdout",
     "output_type": "stream",
     "text": [
      "0\n",
      "1\n",
      "1\n",
      "2\n",
      "3\n",
      "5\n",
      "8\n",
      "13\n",
      "21\n",
      "34\n",
      "55\n"
     ]
    }
   ],
   "source": [
    "fib(10)"
   ]
  }
 ],
 "metadata": {
  "kernelspec": {
   "display_name": "Python 3 (ipykernel)",
   "language": "python",
   "name": "python3"
  },
  "language_info": {
   "codemirror_mode": {
    "name": "ipython",
    "version": 3
   },
   "file_extension": ".py",
   "mimetype": "text/x-python",
   "name": "python",
   "nbconvert_exporter": "python",
   "pygments_lexer": "ipython3",
   "version": "3.9.7"
  }
 },
 "nbformat": 4,
 "nbformat_minor": 5
}
